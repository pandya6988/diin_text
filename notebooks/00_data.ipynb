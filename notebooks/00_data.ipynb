{
 "cells": [
  {
   "cell_type": "code",
   "execution_count": null,
   "metadata": {},
   "outputs": [],
   "source": [
    "# default_exp data"
   ]
  },
  {
   "cell_type": "markdown",
   "metadata": {},
   "source": [
    "# data\n",
    "\n",
    "> Let's do something"
   ]
  },
  {
   "cell_type": "code",
   "execution_count": null,
   "metadata": {},
   "outputs": [],
   "source": [
    "#hide\n",
    "from nbdev.showdoc import *\n",
    "import argostranslate"
   ]
  },
  {
   "cell_type": "code",
   "execution_count": null,
   "metadata": {},
   "outputs": [],
   "source": [
    "#export\n",
    "default_translator_path = 'translate-en_de-1_0.argosmodel'\n",
    "def generate_translator(path='translate-en_de-1_0.argosmodel'):\n",
    "    '''\n",
    "        path[str]: path to file from https://www.argosopentech.com/argospm/index/\n",
    "    '''\n",
    "    package.install_from_path('translate-en_de-1_0.argosmodel')\n",
    "    installed_languages = translate.get_installed_languages()\n",
    "    [str(lang) for lang in installed_languages]\n",
    "    translation_en_de = installed_languages[0].get_translation(installed_languages[1])\n",
    "    return translation_en_de"
   ]
  },
  {
   "cell_type": "code",
   "execution_count": null,
   "metadata": {},
   "outputs": [],
   "source": []
  }
 ],
 "metadata": {
  "kernelspec": {
   "display_name": "Python 3 (ipykernel)",
   "language": "python",
   "name": "python3"
  }
 },
 "nbformat": 4,
 "nbformat_minor": 4
}
