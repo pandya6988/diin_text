{
 "cells": [
  {
   "cell_type": "code",
   "execution_count": null,
   "metadata": {},
   "outputs": [],
   "source": [
    "# default_exp data"
   ]
  },
  {
   "cell_type": "markdown",
   "metadata": {},
   "source": [
    "# data\n",
    "\n",
    "> help function for data exploration and dataset"
   ]
  },
  {
   "cell_type": "code",
   "execution_count": null,
   "metadata": {},
   "outputs": [],
   "source": [
    "#hide\n",
    "from nbdev.showdoc import *\n",
    "from bs4 import BeautifulSoup\n",
    "from argostranslate import package, translate\n",
    "import matplotlib.pyplot as plt\n",
    "import pandas as pd\n",
    "from prettytable import PrettyTable\n",
    "import seaborn as sns\n",
    "from tqdm import tqdm"
   ]
  },
  {
   "cell_type": "code",
   "execution_count": null,
   "metadata": {},
   "outputs": [],
   "source": [
    "#export\n",
    "default_translator_path = 'translate-en_de-1_0.argosmodel'\n",
    "def generate_translator(path='translate-en_de-1_0.argosmodel'):\n",
    "    '''\n",
    "        path[str]: path to file from https://www.argosopentech.com/argospm/index/\n",
    "    '''\n",
    "    package.install_from_path(path)\n",
    "    installed_languages = translate.get_installed_languages()\n",
    "    [str(lang) for lang in installed_languages]\n",
    "    translation_en_de = installed_languages[0].get_translation(installed_languages[1])\n",
    "    return translation_en_de"
   ]
  },
  {
   "cell_type": "markdown",
   "metadata": {},
   "source": [
    "By default it will create English to German translator. "
   ]
  },
  {
   "cell_type": "code",
   "execution_count": null,
   "metadata": {},
   "outputs": [],
   "source": [
    "#export\n",
    "def strip_html(text):\n",
    "    '''\n",
    "    Remove html text\n",
    "    '''\n",
    "    soup = BeautifulSoup(text, \"html.parser\")\n",
    "    return soup.get_text()"
   ]
  },
  {
   "cell_type": "code",
   "execution_count": null,
   "metadata": {},
   "outputs": [],
   "source": [
    "#export\n",
    "class OriTraTranslation():\n",
    "    def __init__(self, ori_text, path=default_translator_path):\n",
    "        '''\n",
    "        Input:\n",
    "            ori_text[str]: Original text\n",
    "            path[str]: path to file from https://www.argosopentech.com/argospm/index\n",
    "            \n",
    "        Output: \n",
    "            dict[dict]: { ori_text:Original text, translated_text: translated text }\n",
    "        '''\n",
    "        self.ori_text = ori_text\n",
    "        self.translator = generate_translator(path)\n",
    "\n",
    "    def __len__(self): return len(self.ori_text)\n",
    "\n",
    "    def __getitem__(self, idx):\n",
    "        return {\n",
    "            'ori_text': self.ori_text[idx], \n",
    "            'translated_text' : self.translator.translate(self.ori_text[idx])\n",
    "        }"
   ]
  },
  {
   "cell_type": "markdown",
   "metadata": {},
   "source": [
    "**Output:**<br> \n",
    "    dict[dict]: { ori_text:Original text, translated_text: translated text }\n",
    "    \n",
    "\n",
    "This is useful when you don't want to translate all text but check few text."
   ]
  },
  {
   "cell_type": "markdown",
   "metadata": {},
   "source": [
    "```\n",
    "df = pd.DataFrame({'text': ['Hello world!', 'Welcome to year 2022.', 'Hello Alex, where did you born?']})\n",
    "ori_translate_text = OriTraTranslation(df['text'], default_translator_path)\n",
    "print(ori_translate_text[0])\n",
    "print(ori_translate_text[1])\n",
    "```\n",
    "```\n",
    "Output: \n",
    "{'ori_text': 'Hello world!', 'translated_text': 'Hallo Welt!'} <br>\n",
    "{'ori_text': 'Welcome to year 2022.', 'translated_text': 'Willkommen im Jahr 2022.'}\n",
    "```"
   ]
  },
  {
   "cell_type": "code",
   "execution_count": null,
   "metadata": {},
   "outputs": [],
   "source": [
    "#export \n",
    "def create_ori_trans_dataframe(text_in, path):\n",
    "    '''        \n",
    "    Output: Pandas dataframe: {'text_in': input text, 'trans_text':translated text}\n",
    "    '''\n",
    "    ori_sentences = []\n",
    "    trans_sentences = []\n",
    "    \n",
    "    en_de_translation = OriTraTranslation(text_in, path)\n",
    "    \n",
    "    for idx in tqdm(range(len(text_in)), desc='Translating text : '):\n",
    "        en_de = en_de_translation[idx]\n",
    "        ori_sentences.append(en_de['ori_text'])\n",
    "        trans_sentences.append(en_de['translated_text'])\n",
    "    \n",
    "    df = pd.DataFrame()\n",
    "    df['ori_text'] = ori_sentences\n",
    "    df['trans_text'] = trans_sentences\n",
    "    \n",
    "    return df"
   ]
  },
  {
   "cell_type": "markdown",
   "metadata": {},
   "source": [
    "Translate corpus(all text) and return pandas DataFrame with original text and translated text"
   ]
  },
  {
   "cell_type": "code",
   "execution_count": null,
   "metadata": {},
   "outputs": [],
   "source": [
    "#export\n",
    "def print_dataframe_table(df, n=3, schuffle=True):\n",
    "    '''\n",
    "    Randomly see n examples\n",
    "    '''\n",
    "    if schuffle: df = df.sample(frac=1).reset_index(drop=True)\n",
    "    ptable = PrettyTable()\n",
    "    keys = df.keys().to_list()\n",
    "    ptable.field_names = df.keys().to_list()\n",
    "    plist = []\n",
    "    for idx in range(n):\n",
    "        l = list()\n",
    "        for key in keys:\n",
    "            l.append( df[key][idx] )\n",
    "        plist.append(l)\n",
    "    ptable.add_rows(plist)\n",
    "    \n",
    "    return ptable"
   ]
  },
  {
   "cell_type": "markdown",
   "metadata": {},
   "source": [
    "This function is useful when we want to compare long texts. (pandas truncate the long text.)"
   ]
  }
 ],
 "metadata": {
  "kernelspec": {
   "display_name": "Python 3.7.12 64-bit",
   "name": "python3"
  }
 },
 "nbformat": 4,
 "nbformat_minor": 4
}
