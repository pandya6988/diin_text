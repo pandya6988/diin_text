{
 "cells": [
  {
   "cell_type": "code",
   "execution_count": null,
   "metadata": {},
   "outputs": [],
   "source": [
    "# default_exp data"
   ]
  },
  {
   "cell_type": "markdown",
   "metadata": {},
   "source": [
    "# data\n",
    "\n",
    "> help function for data exploration and dataset"
   ]
  },
  {
   "cell_type": "code",
   "execution_count": null,
   "metadata": {},
   "outputs": [],
   "source": [
    "#hide\n",
    "from nbdev.showdoc import *\n",
    "from bs4 import BeautifulSoup\n",
    "from argostranslate import package, translate\n",
    "import matplotlib.pyplot as plt\n",
    "import pandas as pd\n",
    "from prettytable import PrettyTable\n",
    "import seaborn as sns\n",
    "from tqdm import tqdm"
   ]
  },
  {
   "cell_type": "code",
   "execution_count": null,
   "metadata": {},
   "outputs": [],
   "source": [
    "#export\n",
    "default_translator_path = 'translate-en_de-1_0.argosmodel'\n",
    "def generate_translator(path='translate-en_de-1_0.argosmodel'):\n",
    "    '''\n",
    "        path[str]: path to file from https://www.argosopentech.com/argospm/index/\n",
    "    '''\n",
    "    package.install_from_path('translate-en_de-1_0.argosmodel')\n",
    "    installed_languages = translate.get_installed_languages()\n",
    "    [str(lang) for lang in installed_languages]\n",
    "    translation_en_de = installed_languages[0].get_translation(installed_languages[1])\n",
    "    return translation_en_de"
   ]
  },
  {
   "cell_type": "markdown",
   "metadata": {},
   "source": [
    "By default it will create English to German translator. "
   ]
  },
  {
   "cell_type": "code",
   "execution_count": null,
   "metadata": {},
   "outputs": [],
   "source": [
    "#export\n",
    "def strip_html(text):\n",
    "    '''\n",
    "    Remove html text\n",
    "    '''\n",
    "    soup = BeautifulSoup(text, \"html.parser\")\n",
    "    return soup.get_text()"
   ]
  },
  {
   "cell_type": "code",
   "execution_count": null,
   "metadata": {},
   "outputs": [],
   "source": [
    "#export\n",
    "class OriTraTranslation():\n",
    "    def __init__(self, ori_text, path):\n",
    "        '''\n",
    "        Input:\n",
    "            ori_text[str]: Original text\n",
    "            path[str]: path to file from https://www.argosopentech.com/argospm/index\n",
    "            \n",
    "        Output: \n",
    "            dict[dict]: { ori_text:Original text, translated_text: translated text }\n",
    "        '''\n",
    "        self.ori_text = ori_text\n",
    "        self.translator = generate_translator(path)\n",
    "\n",
    "    def __len__(self): return len(self.ori_text)\n",
    "\n",
    "    def __getitem__(self, idx):\n",
    "        return {\n",
    "            'ori_text': self.ori_text[idx], \n",
    "            'translated_text' : self.translator.translate(self.ori_text[idx])\n",
    "        }"
   ]
  },
  {
   "cell_type": "code",
   "execution_count": null,
   "metadata": {},
   "outputs": [],
   "source": []
  }
 ],
 "metadata": {
  "kernelspec": {
   "display_name": "Python 3 (ipykernel)",
   "language": "python",
   "name": "python3"
  }
 },
 "nbformat": 4,
 "nbformat_minor": 4
}
